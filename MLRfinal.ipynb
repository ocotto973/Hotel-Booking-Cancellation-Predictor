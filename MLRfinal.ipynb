{
 "cells": [
  {
   "cell_type": "code",
   "execution_count": 1,
   "id": "150017c4",
   "metadata": {},
   "outputs": [
    {
     "name": "stdout",
     "output_type": "stream",
     "text": [
      "Total amount correct:5744\n",
      "Total amount incorrect: 1513\n",
      "0.7915116439299986\n"
     ]
    }
   ],
   "source": [
    "import numpy as np\n",
    "import matplotlib.pyplot as plt\n",
    "import pandas as pd\n",
    "from sklearn.compose import ColumnTransformer\n",
    "from sklearn.preprocessing import OneHotEncoder\n",
    "from sklearn.model_selection import train_test_split\n",
    "from sklearn.linear_model import LinearRegression\n",
    "from sklearn.preprocessing import LabelEncoder\n",
    "\n",
    "# Read the dataset\n",
    "dataset = pd.read_csv('booking.csv')\n",
    "\n",
    "# Extract features (X) and target variable (y)\n",
    "X = dataset.iloc[:, 1:-2].values\n",
    "y = dataset.iloc[:, -1].values\n",
    "\n",
    "# Encode the target variable for regression (assuming it's continuous)\n",
    "label_encoder = LabelEncoder()\n",
    "y_encoded = label_encoder.fit_transform(y)\n",
    "\n",
    "# Apply one-hot encoding to specified columns\n",
    "ct = ColumnTransformer(transformers=[('encoder', OneHotEncoder(), [4, 6, 8])], remainder='passthrough')\n",
    "X_transformed = ct.fit_transform(X)\n",
    "\n",
    "# Split the dataset into training and testing sets\n",
    "X_train, X_test, y_train, y_test = train_test_split(X_transformed, y_encoded, test_size=0.2, random_state=0)\n",
    "\n",
    "# Use Multiple Linear Regression for regression\n",
    "regressor = LinearRegression()\n",
    "regressor.fit(X_train, y_train)\n",
    "\n",
    "# Make predictions on the test set\n",
    "y_pred = regressor.predict(X_test)\n",
    "\n",
    "# Print the predicted and actual values side by side\n",
    "result = np.concatenate((y_pred.reshape(len(y_pred), 1), y_test.reshape(len(y_test), 1)), 1)\n",
    "\n",
    "def round_to_nearest_zero_or_one(num):\n",
    "    \"\"\"Round the given float to the nearest 0 or 1.\"\"\"\n",
    "    if abs(num - 0) < abs(num - 1):\n",
    "        return 0\n",
    "    else:\n",
    "        return 1\n",
    "for i in result:\n",
    "    f = i[0]\n",
    "    i[0] = round_to_nearest_zero_or_one(f)\n",
    "yescount=0\n",
    "nocount =0\n",
    "for i in range (len(result)):\n",
    "    if str(result[i][0]) == str(result[i][1]):\n",
    "        #print('yes')\n",
    "        yescount+=1\n",
    "    else:\n",
    "        nocount+=1\n",
    "print(\"Total amount correct:\" + str(yescount))\n",
    "print(\"Total amount incorrect: \" + str(nocount))\n",
    "percent = yescount / (yescount+nocount)\n",
    "print(percent)"
   ]
  },
  {
   "cell_type": "code",
   "execution_count": null,
   "id": "c7c6f2a2",
   "metadata": {},
   "outputs": [],
   "source": []
  }
 ],
 "metadata": {
  "kernelspec": {
   "display_name": "Python 3 (ipykernel)",
   "language": "python",
   "name": "python3"
  },
  "language_info": {
   "codemirror_mode": {
    "name": "ipython",
    "version": 3
   },
   "file_extension": ".py",
   "mimetype": "text/x-python",
   "name": "python",
   "nbconvert_exporter": "python",
   "pygments_lexer": "ipython3",
   "version": "3.11.4"
  }
 },
 "nbformat": 4,
 "nbformat_minor": 5
}
